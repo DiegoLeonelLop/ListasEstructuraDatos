{
  "nbformat": 4,
  "nbformat_minor": 0,
  "metadata": {
    "colab": {
      "name": "ListasLigadasADT.ipynb",
      "provenance": []
    },
    "kernelspec": {
      "name": "python3",
      "display_name": "Python 3"
    },
    "language_info": {
      "name": "python"
    }
  },
  "cells": [
    {
      "cell_type": "markdown",
      "metadata": {
        "id": "KMZE5edB1ZSR"
      },
      "source": [
        "Ejercicios con la clase Nodo\n",
        ". Crear un nodo 10\n",
        "- imprimir el valor del nodo\n",
        ". Crear 2 nodos 10, 20\n",
        "- imprimir el valor del primero\n",
        "-imprimir el valor del segundo \n",
        "-transversal\n",
        ".Todo esto antes de ir a la escritura formal del ADT lista ligada\n"
      ]
    },
    {
      "cell_type": "code",
      "metadata": {
        "id": "XD1CggXa2CFR"
      },
      "source": [
        "class Nodo:\n",
        "    def __init__( self , value , siguiente = None ):\n",
        "        self.data = value\n",
        "        self.next = siguiente  "
      ],
      "execution_count": null,
      "outputs": []
    },
    {
      "cell_type": "code",
      "metadata": {
        "colab": {
          "base_uri": "https://localhost:8080/"
        },
        "id": "KNueJoeR2Wxh",
        "outputId": "eb901aad-e86a-40f4-a1bf-41620489e6eb"
      },
      "source": [
        "head = Nodo(10)\n",
        "print( head. data )"
      ],
      "execution_count": null,
      "outputs": [
        {
          "output_type": "stream",
          "name": "stdout",
          "text": [
            "10\n"
          ]
        }
      ]
    },
    {
      "cell_type": "code",
      "metadata": {
        "colab": {
          "base_uri": "https://localhost:8080/"
        },
        "id": "WONOVRaP2psA",
        "outputId": "10871bc5-76b1-49c0-c97b-fd7cf7ce542c"
      },
      "source": [
        "head = Nodo(10)\n",
        "head.next = Nodo(20)\n",
        "print(f\"Primero= { head.data }\")\n",
        "print(f\"Segundo={head.next.data }\")\n",
        "\n",
        "head = Nodo( 10, Nodo(20))\n",
        "print(f\"Primero= { head.data }\")\n",
        "print(f\"Segundo={head.next.data }\")\n",
        "\n",
        "\n",
        "curr_node = head\n",
        "while curr_node != None:\n",
        "    print(f\"{curr_node.data }) | --> \", end=\"\")\n",
        "    curr_node = curr_node.next \n",
        "\n"
      ],
      "execution_count": null,
      "outputs": [
        {
          "output_type": "stream",
          "name": "stdout",
          "text": [
            "Primero= 10\n",
            "Segundo=20\n",
            "Primero= 10\n",
            "Segundo=20\n",
            "10) | --> 20) | --> "
          ]
        }
      ]
    },
    {
      "cell_type": "code",
      "metadata": {
        "colab": {
          "base_uri": "https://localhost:8080/"
        },
        "id": "bqxgeBuL6_Q_",
        "outputId": "6842cde6-0c27-438a-9fb4-c0263481b7cc"
      },
      "source": [
        "head = Nodo(10,Nodo(20,Nodo(30,Nodo(40))))\n",
        "#Nodo(valor , siguiente)\n",
        "#transversal\n",
        "curr_node=head\n",
        "while curr_node !=None:\n",
        "    print(f\"| {curr_node.data } --> \" , end=\"\")\n",
        "    curr_node=curr_node.next\n",
        "print(\"\")\n",
        "\n",
        "#imprimir el primero\n",
        "print(head.data)\n",
        "#imprimir el ultimo\n",
        "curr_node = head\n",
        "while curr_node.next !=None:\n",
        "    curr_node= curr_node.next\n",
        "print(curr_node.data)\n",
        "\n",
        "# insertar el nodo 25\n",
        "curr_node=head\n",
        "\n",
        "# crear el nodo 25 "
      ],
      "execution_count": null,
      "outputs": [
        {
          "output_type": "stream",
          "name": "stdout",
          "text": [
            "| 10 --> | 20 --> | 30 --> | 40 --> \n"
          ]
        }
      ]
    },
    {
      "cell_type": "code",
      "metadata": {
        "id": "XdP19lDQeXwk"
      },
      "source": [
        "class LinkedList:\n",
        "    def __init__( self ):\n",
        "        self.head = None\n",
        "    \n",
        "    def is_empty( self ): # true o false \n",
        "        return self.head == None\n",
        "\n",
        "    def get_tail( self ):\n",
        "        if self.is_empty():\n",
        "            return None\n",
        "        else:\n",
        "            curr_node = self.head\n",
        "            while curr_node.next != None:\n",
        "                curr_node = curr_node.next\n",
        "            return curr_node\n",
        "    def append( self , value ):\n",
        "        if self.head == None:\n",
        "            self.head = Nodo( value )\n",
        "        else:\n",
        "            curr_node = self.head\n",
        "            while curr_node.next != None:\n",
        "                curr_node = curr_node.next\n",
        "            curr_node.next = Nodo(value)\n",
        "    def transversal( self ):\n",
        "        curr_node = self.head\n",
        "        while curr_node != None:\n",
        "            print(f\"| { curr_node.data }|  -->\" , end=\"\")\n",
        "            curr_node = curr_node.next\n",
        "        print(\" \")\n",
        "\n",
        "    def remove ( self , value):\n",
        "        if self.head == None:\n",
        "            print(\"Lista vacia, no se pudo remover nada\")\n",
        "        else:\n",
        "            curr_node = self.head\n",
        "            aux = None\n",
        "        while curr_node.data != value:\n",
        "            aux = curr_node\n",
        "            curr_node = curr_node.next\n",
        "        \n",
        "        if curr_node != None:\n",
        "            aux.next = curr_node.next\n",
        "            curr_node = None\n",
        "\n",
        "    def preppend ( self, value):\n",
        "        if self.head != None:\n",
        "            print(\"esta vacio\")\n",
        "        else:\n",
        "            aux = self.head\n",
        "            self.head = Nodo (value,aux)\n"
      ],
      "execution_count": 16,
      "outputs": []
    },
    {
      "cell_type": "code",
      "metadata": {
        "colab": {
          "base_uri": "https://localhost:8080/",
          "height": 129
        },
        "id": "IKJy3NK1fbp1",
        "outputId": "66c46009-e106-494e-804a-7c8eb9848bae"
      },
      "source": [
        "lista = LinkedList()\n",
        "    if lista.is_empty:\n",
        "        print(\"La lista esta vacia\")\n",
        "    else:\n",
        "        print(\"La lista no esta vacia\")\n",
        "\n",
        "lista.append(20)\n",
        "lista.append(110)\n",
        "lista.append(600)\n",
        "lista.append(10)\n",
        "nodo = lista.get_tail()\n",
        "if nodo != None:\n",
        "  print(nodo.data)\n",
        "else: \n",
        "  print(\"La lista esta vacia\")\n",
        "\n",
        "lista.transversal()\n",
        "lista.transversal()\n",
        "lista.preppend(6)\n",
        "lista.remove(10)\n"
      ],
      "execution_count": 21,
      "outputs": [
        {
          "output_type": "error",
          "ename": "IndentationError",
          "evalue": "ignored",
          "traceback": [
            "\u001b[0;36m  File \u001b[0;32m\"<ipython-input-21-e9a8177d5746>\"\u001b[0;36m, line \u001b[0;32m2\u001b[0m\n\u001b[0;31m    if lista.is_empty:\u001b[0m\n\u001b[0m    ^\u001b[0m\n\u001b[0;31mIndentationError\u001b[0m\u001b[0;31m:\u001b[0m unexpected indent\n"
          ]
        }
      ]
    }
  ]
}